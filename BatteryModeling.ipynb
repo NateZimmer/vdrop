{
 "cells": [
  {
   "cell_type": "markdown",
   "metadata": {},
   "source": [
    "*Author:* Nathan Zimmerman <br>\n",
    "*Date:* 2/1/2020\n",
    "\n",
    "# Dynamic Modeling of Voltage Dropout for Electronics\n",
    "\n",
    "**Brief:** This doc demonstrates a dynamic system model with the intent to give engineers insight into design considerations and system failures due to battery aging. Often, electrical systems will fail before the battery's advertized capacity rating is reached. A variable amount of design risk is undertaken as a design engineers attempts to \"derate\" a battery by some quantity to compensate for this pre-mature failure. This risk can potentially be mitigated by dynamic system modeling. This doc will outline a **dynamic circuit model** by which a supply voltage can be observed per an arbitrary dynamic load. \n",
    "\n",
    "## Dynamic Circuit Model:\n",
    "\n"
   ]
  },
  {
   "cell_type": "markdown",
   "metadata": {},
   "source": [
    "Consider the following circuit:\n",
    "\n",
    "<p align=\"center\">\n",
    "    <img src='images/circuit.png' align=\"center\"></img>\n",
    "</p>\n"
   ]
  },
  {
   "cell_type": "markdown",
   "metadata": {},
   "source": [
    "The following defines the terms in the above circuit: \n",
    "\n",
    "$$\n",
    "\\begin{split}\n",
    "& V_{Bat}: Battery \\ Voltage \\\\\n",
    "& R_{ESR}: Changing \\ Battery \\ ESR \\\\\n",
    "& C_{Bulk}: System \\ Bulk \\ Capacitence \\\\\n",
    "& V_{Supply}: System \\ Supply \\ Voltage \\\\ \n",
    "& I_{Load}: System \\ Load \\ Current \\\\  \n",
    "& I_{Load} = I_{Static} + I_{Dynamic}\n",
    "\\end{split}\n",
    "$$\n",
    "\n",
    "Note, the failure condition of many electrical systems is defined by a dropout voltage of some critical IC (such as a microcontroller). Hence: \n",
    "\n",
    "$$\n",
    "System \\ Failure =  V_{Supply} < V_{Drop \\ Out}\n",
    "$$\n"
   ]
  },
  {
   "cell_type": "markdown",
   "metadata": {},
   "source": [
    "Also note, $I_{Load}$ is approximating the system loading as a current source. In reality, it will be some combination of currents and impedances. $I_{Load}$ is broken out into the sum of $I_{Static}$ and $I_{Dynamic}$. Regarding $I_{Static}$, electronics often have a static(quiesent) current draw from passives and active components. Regarding $I_{Dynamic}$, electronics often have a dominant dynamic current pulse such as an RF transmission or a sensor measurement. A pulse from $I_{Dynamic}$ is often what eventually brings down $V_{Supply}$ below $V_{Drop \\ Out}$ as $R_{ESR}$ increases as the battery ages. \n"
   ]
  },
  {
   "cell_type": "markdown",
   "metadata": {},
   "source": [
    "### Dynamic Model: \n",
    "\n",
    "This docs objective is to create a dynamics model that allows for easy simulation of an arbitrary input $I_{Load}$ and its effect on output $V_{Supply}$. Consequently, a discrete time model is desired. Via nodal equations it can be shown that the following is true: \n",
    "\n",
    "**Step 1:** Nodal equation \n",
    "\n",
    "$$\n",
    "\\frac{V_{Bat} - V_{Supply}}{R_{ESR}} = I_{Load} + I_{C_{Bulk}}\n",
    "$$\n",
    "\n",
    "Recall the definition of capacitence, $I_C =  V_C \\cdot s \\cdot C$ where $s$ is the **Laplace Transform**. \n",
    "\n",
    "**Step 2:** Simplification, substitution, re-aragement\n",
    "$$\n",
    "V_{Supply}\\cdot s = \\frac{V_{Bat} - V_{Supply}}{R_{ESR}\\cdot C_{Bulk}} - \\frac{I_{Load}}{C_{ESR}}\n",
    "$$\n",
    "\n",
    "\n",
    "\n",
    "\n"
   ]
  },
  {
   "cell_type": "markdown",
   "metadata": {},
   "source": [
    "Recall the forward difference approximation $s = (z - 1)/ \\Delta T$ where $z$ is the **Z-Transform** and $\\Delta T$ is the discrete timestep. Note that $z$ represents a function step advance. \n",
    "\n",
    "**Step 3:** Final form\n",
    "\n",
    "$$\n",
    "V_{Supply}(k + 1) = \\frac{\\Delta T \\cdot (V_{Bat} - V_{Supply}(k))}{R_{ESR}\\cdot C_{Bulk}} + V_{Supply}(k) - \\frac{ \\Delta T \\cdot I_{Supply}(k) }{C_{Bulk}} \n",
    "$$\n",
    "\n",
    "The above equation allows one to observe $V_{Supply}$ with respect to time for an arbitrary input $I_{Supply}$."
   ]
  },
  {
   "cell_type": "markdown",
   "metadata": {},
   "source": [
    "### Validate Dynamics Model:\n",
    "\n",
    "LT Spice is free commercial software allows one to simulate electrical dynamic systems. [DropOutExample.asc](DropOutExample.asc) is an LT Spice simulation of this circuit and its results are shown below. \n",
    "\n",
    "\n",
    "<p align=\"center\">\n",
    "    <img src='images/lt_sim.png' align=\"center\"></img>\n",
    "</p>\n",
    "\n",
    "\n",
    "With this simulation as reference, the following will demonstrate similar results using the derived equation.   \n",
    "\n",
    "\n"
   ]
  },
  {
   "cell_type": "code",
   "execution_count": 166,
   "metadata": {},
   "outputs": [],
   "source": [
    "# Imports\n",
    "%matplotlib inline\n",
    "import numpy as np\n",
    "import matplotlib.pyplot as plt\n",
    "import matplotlib as matplotlib\n",
    "import math\n",
    "from matplotlib import animation, rc\n",
    "from IPython.display import HTML\n",
    "from pandas import DataFrame"
   ]
  },
  {
   "cell_type": "code",
   "execution_count": 211,
   "metadata": {},
   "outputs": [],
   "source": [
    "# Define our variables \n",
    "\n",
    "c_bulk = 220.0 * 1e-6 # Farards\n",
    "v_bat = 3.3 # Volts\n",
    "r_esr = 100 # Ohms\n",
    "i_dynamic = 20.0 * 1e-3 # Amps\n",
    "i_static = 0 * 1e-6 # Amps\n",
    "delta_t = 1.0 * 1e-4 # Seconds"
   ]
  },
  {
   "cell_type": "code",
   "execution_count": 212,
   "metadata": {},
   "outputs": [],
   "source": [
    "# Define our model \n",
    "\n",
    "def v_model(v_i, del_t, i_load):\n",
    "    return del_t * (v_bat - v_i)/(r_esr * c_bulk) + v_i - (del_t * i_load)/c_bulk "
   ]
  },
  {
   "cell_type": "code",
   "execution_count": 215,
   "metadata": {},
   "outputs": [],
   "source": [
    "# Perform simulation\n",
    "\n",
    "v_supply = 3.3 # Starting voltage\n",
    "sim_time = 3 # Time (s)\n",
    "data_out = []\n",
    "i_load = 0\n",
    "for t in range( math.floor(sim_time / delta_t)):\n",
    "    data_out.append([t*delta_t,v_supply,i_load]) # Save data \n",
    "    if( (t > np.round(2 / delta_t)-1) and (t < np.round(2.02 / delta_t)) ):\n",
    "        i_load = i_dynamic # Dynamic pulse\n",
    "    else:\n",
    "        i_load = i_static # Static current \n",
    "    v_supply = v_model(v_supply, delta_t, i_load) # Calculate next step\n",
    "data_out = np.array(data_out)"
   ]
  },
  {
   "cell_type": "code",
   "execution_count": 216,
   "metadata": {},
   "outputs": [
    {
     "data": {
      "image/png": "[encoded data removed]",
      "text/plain": [
       "<Figure size 720x504 with 2 Axes>"
      ]
     },
     "metadata": {},
     "output_type": "display_data"
    }
   ],
   "source": [
    "# Plot results \n",
    "\n",
    "plt.rcParams['axes.labelsize'] = 16\n",
    "plt.rcParams['xtick.labelsize'] = 16\n",
    "plt.rcParams['ytick.labelsize'] = 16\n",
    "plt.rcParams['axes.labelweight'] = 'bold'\n",
    "plt.rcParams['axes.titlesize'] = 16 \n",
    "plt.rcParams['axes.titleweight'] = 'bold'\n",
    "fig, ax1 = plt.subplots()\n",
    "ax1.set_xlabel('time (s)')\n",
    "ax1.set_ylabel('V', color='C0')\n",
    "ax1.plot(data_out[:,0],data_out[:,1],color='C0')\n",
    "ax1.tick_params(axis='y', labelcolor='C0')\n",
    "ax1.grid(color='0.7', linestyle='--', linewidth=1)\n",
    "ax1.set_axisbelow(True)\n",
    "ax2 = ax1.twinx()  # instantiate a second axes that shares the same x-axis\n",
    "ax2.plot(data_out[:,0],data_out[:,2]*1000,color='C1')\n",
    "ax2.set_ylabel('mA', color='C1')  # we already handled the x-label with ax1\n",
    "ax2.tick_params(axis='y', labelcolor='C1')\n",
    "ax1.set_xlim(1.95,2.05)\n",
    "fig.set_size_inches(10,7)\n",
    "plt.title('Model Voltage: min(V) = %3.3f V'%np.min(data_out[:,1]))\n",
    "plt.show()"
   ]
  },
  {
   "cell_type": "markdown",
   "metadata": {},
   "source": [
    "### Model Result Analysis: \n",
    "\n",
    "As observed in the figure above, the discrete model proposed gives one a solution similar to the LT spce simulation. $V_{Model \\ min} \\approx 2.104V$ in the proposed model and $V_{LT \\ min} \\approx 2.106V$. These differences are likely due to rise/fall time assumptions as well as the discretization method being more complex than the forward difference. None the less, the following model allows one to fairly accurately approximate the voltage drop for an arbitrary $I_{Supply}$. \n",
    "\n",
    "$$\n",
    "V_{Supply}(k + 1) = \\frac{\\Delta T \\cdot (V_{Bat} - V_{Supply}(k))}{R_{ESR}\\cdot C_{Bulk}} + V_{Supply}(k) - \\frac{ \\Delta T \\cdot I_{Supply}(k) }{C_{Bulk}} \n",
    "$$\n",
    "\n"
   ]
  },
  {
   "cell_type": "markdown",
   "metadata": {},
   "source": []
  },
  {
   "cell_type": "code",
   "execution_count": null,
   "metadata": {},
   "outputs": [],
   "source": []
  }
 ],
 "metadata": {
  "kernelspec": {
   "display_name": "Python 3",
   "language": "python",
   "name": "python3"
  },
  "language_info": {
   "codemirror_mode": {
    "name": "ipython",
    "version": 3
   },
   "file_extension": ".py",
   "mimetype": "text/x-python",
   "name": "python",
   "nbconvert_exporter": "python",
   "pygments_lexer": "ipython3",
   "version": "3.7.3"
  }
 },
 "nbformat": 4,
 "nbformat_minor": 4
}
